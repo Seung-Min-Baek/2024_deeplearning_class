{
 "cells": [
  {
   "cell_type": "markdown",
   "metadata": {},
   "source": [
    "#### 손실함수\n",
    "\n",
    "훈련을 통해 찾은 매개변수가 실제로 얼마나 오차가 많은지를 측정하는 함수\n",
    "\n",
    "* 대표적인 손실함수 : 평균제곱오차(Mean squared error), 교차엔트로피 오차(cross entropy error)\n",
    "\n",
    "* 미니배치 : 데이터셋이 6만개라면 100개씩 학습을 시켜 각각의 평균오차를 계산한다.\n",
    "데이터 N개를 뽑을 때 랜덤하게 뽑으면 더 성능이 좋다."
   ]
  },
  {
   "cell_type": "markdown",
   "metadata": {},
   "source": [
    "$\\frac{f}{x_i} = lim \\frac{f(x_1,x_2+h,...,x_n)-f(x_i,x_i-h,...x_n)}{2h}$"
   ]
  },
  {
   "cell_type": "code",
   "execution_count": 1,
   "metadata": {},
   "outputs": [
    {
     "name": "stdout",
     "output_type": "stream",
     "text": [
      "[5000 5000]\n"
     ]
    }
   ],
   "source": [
    "# 그레디언트\n",
    "import numpy as np\n",
    "\n",
    "def numerical_grad_1d(f, x):\n",
    "  h = 1e-4\n",
    "  grad = np.zeros_like(x)\n",
    "\n",
    "  for idx in range(x.size):\n",
    "    tmp = x[idx]\n",
    "    x[idx] = tmp + h\n",
    "    fx1 = f(x)\n",
    "    x[idx] = tmp - h\n",
    "    fx2 = f(x)\n",
    "    grad[idx] = (fx1 - fx2) / (2 * h)\n",
    "    x[idx] = tmp\n",
    "  return grad\n",
    "\n",
    "def f3(x):\n",
    "  return np.sum(x ** 2)\n",
    "\n",
    "x0 = np.array([1, 1]) # 정수형 데이터 타입\n",
    "grad_f3 = numerical_grad_1d(f3, x0)\n",
    "print(grad_f3)"
   ]
  }
 ],
 "metadata": {
  "kernelspec": {
   "display_name": "base",
   "language": "python",
   "name": "python3"
  },
  "language_info": {
   "codemirror_mode": {
    "name": "ipython",
    "version": 3
   },
   "file_extension": ".py",
   "mimetype": "text/x-python",
   "name": "python",
   "nbconvert_exporter": "python",
   "pygments_lexer": "ipython3",
   "version": "3.10.13"
  }
 },
 "nbformat": 4,
 "nbformat_minor": 2
}
