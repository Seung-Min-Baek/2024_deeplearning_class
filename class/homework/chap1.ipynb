{
 "cells": [
  {
   "cell_type": "markdown",
   "metadata": {},
   "source": [
    "1. 다음 행렬 연산을 파이썬 넘파이 프로그램을 이용해서 계산하세요.\n",
    "\n",
    "$$A = \\begin{bmatrix}\n",
    "       1 & 2 & 3 \\\\\n",
    "       4 & 5 & 6 \\\\\n",
    "      \\end{bmatrix},\n",
    "B = \\begin{bmatrix}\n",
    "       1 & 0 \\\\\n",
    "       0 & 1 \\\\\n",
    "       1 & 1 \\\\\n",
    "       \\end{bmatrix}$$\n",
    "\n",
    "a. $2A$\n",
    "\n",
    "b. $A$의 각 성분의 제곱\n",
    "$$\\begin{bmatrix}\n",
    "       1^2 & 2^2 &3^2 \\\\\n",
    "       4^2 & 5^2 &6^2 \\\\\n",
    "       \\end{bmatrix}$$\n",
    "c. 두 행렬의 곱 $AB$"
   ]
  },
  {
   "cell_type": "code",
   "execution_count": 14,
   "metadata": {},
   "outputs": [
    {
     "name": "stdout",
     "output_type": "stream",
     "text": [
      "[[ 2  4  6]\n",
      " [ 8 10 12]]\n",
      "[[ 1  4  9]\n",
      " [16 25 36]]\n",
      "[[ 4  5]\n",
      " [10 11]]\n"
     ]
    }
   ],
   "source": [
    "import numpy as np\n",
    "A = np.array([1,2,3,4,5,6]).reshape((2,3))\n",
    "B = np.array([1,0,0,1,1,1]).reshape((3,2))\n",
    "\n",
    "# a.\n",
    "print(2*A)\n",
    "\n",
    "# b.\n",
    "print(A**2)\n",
    "\n",
    "# c.\n",
    "print(A.dot(B))"
   ]
  },
  {
   "cell_type": "markdown",
   "metadata": {},
   "source": [
    "2. 넘파이 ```reshape``` 함수를 이용하여 다음과 같은 행렬을 만드세요.\n",
    "    ```python\n",
    "    1 2 3 4\n",
    "    5 6 7 8\n",
    "    9 10 11 12\n",
    "    ```"
   ]
  },
  {
   "cell_type": "code",
   "execution_count": 16,
   "metadata": {},
   "outputs": [
    {
     "name": "stdout",
     "output_type": "stream",
     "text": [
      "[[ 1  2  3  4]\n",
      " [ 5  6  7  8]\n",
      " [ 9 10 11 12]]\n"
     ]
    }
   ],
   "source": [
    "import numpy as np\n",
    "\n",
    "matrix = np.arange(1,13).reshape((3,4))\n",
    "print(matrix)"
   ]
  },
  {
   "cell_type": "markdown",
   "metadata": {},
   "source": [
    "3. 넘파이 `zeros, ones, eye` 함수를 이용해 `3x5` 영행렬, 성분이 모두 `1`로만 이루어진 `2x3` 행렬, `5x5` 단위행렬을 각각 만드세요."
   ]
  },
  {
   "cell_type": "code",
   "execution_count": 2,
   "metadata": {},
   "outputs": [
    {
     "name": "stdout",
     "output_type": "stream",
     "text": [
      "[[0. 0. 0. 0. 0.]\n",
      " [0. 0. 0. 0. 0.]\n",
      " [0. 0. 0. 0. 0.]]\n",
      "[[1. 1. 1.]\n",
      " [1. 1. 1.]]\n",
      "[[1. 0. 0. 0. 0.]\n",
      " [0. 1. 0. 0. 0.]\n",
      " [0. 0. 1. 0. 0.]\n",
      " [0. 0. 0. 1. 0.]\n",
      " [0. 0. 0. 0. 1.]]\n"
     ]
    }
   ],
   "source": [
    "import numpy as np\n",
    "\n",
    "zero_matrix = np.zeros(shape=(3,5))\n",
    "print(zero_matrix)\n",
    "ones_matrix = np.ones(shape=(2,3))\n",
    "print(ones_matrix)\n",
    "eye_matrix = np.eye(5)\n",
    "print(eye_matrix)"
   ]
  },
  {
   "cell_type": "markdown",
   "metadata": {},
   "source": [
    "4. 넘파이 `3x1x2` 와 `2x2` 배열을 더할 때 브로드캐스트 되는 과정을 다음 배열 A, B를 이용해서 자세히 설명하세요.\n",
    "    ```python\n",
    "    A = np.arange(6).reshape(3, 1, 2)\n",
    "    B = np.arange(6, 10).reshape(2, 2)\n",
    "    print('A=', A, '\\nB=', B)\n",
    "\n",
    "    A= [[[0 1]]\n",
    "        [[2 3]]\n",
    "        [[4 5]]] \n",
    "    B= [[6 7]\n",
    "        [8 9]]\n",
    "    ```"
   ]
  },
  {
   "cell_type": "markdown",
   "metadata": {},
   "source": [
    "* 두 배열의 크기를 끝부터 맞추고, 축이 없는 부분은 1로 채운다.\\\n",
    "A : 3 x 1 x 2 \\\n",
    "B : 1 x 2 x 2\n",
    "\n",
    "* 뒤에서부터 크기가 1인 부분을 다른 배열의 같은 축의 크기에 맞춰 복사하여 브로드캐스트를 한다.\\\n",
    "A : 3 x 2 x 2 \\\n",
    "B : 3 x 2 x 2 \n",
    "\n",
    "* 따라서 `3x1x2` 였던 A 배열은 `3x2x2`가 되고 `2x2`였던 B 배열은 `3x2x2`가 된다.\n",
    "```python\n",
    "A = [[[0 1]\n",
    "      [0 1]]\n",
    "     [[2 3]\n",
    "      [2 3]]\n",
    "     [[4 5]\n",
    "      [4 5]]]\n",
    "B = [[[6 7]\n",
    "      [8 9]]\n",
    "     [[6 7]\n",
    "      [8 9]]\n",
    "     [[6 7]\n",
    "      [8 9]]]\n",
    "```\n",
    "* A와 B의 덧셈은 아래와 같은 결과가 나온다.\n",
    "```python\n",
    "A+B = [[[6 8]\n",
    "        [8 10]]\n",
    "       [[8 10]\n",
    "        [10 12]]\n",
    "       [[10 12]\n",
    "        [12 14]]]\n",
    "```"
   ]
  },
  {
   "cell_type": "code",
   "execution_count": 4,
   "metadata": {},
   "outputs": [
    {
     "name": "stdout",
     "output_type": "stream",
     "text": [
      "A= [[[0 1]]\n",
      "\n",
      " [[2 3]]\n",
      "\n",
      " [[4 5]]] nB= [[6 7]\n",
      " [8 9]]\n",
      "\n",
      "A+B= [[[ 6  8]\n",
      "  [ 8 10]]\n",
      "\n",
      " [[ 8 10]\n",
      "  [10 12]]\n",
      "\n",
      " [[10 12]\n",
      "  [12 14]]]\n"
     ]
    }
   ],
   "source": [
    "import numpy as np\n",
    "A = np.arange(6).reshape(3, 1, 2)\n",
    "B = np.arange(6, 10).reshape(2, 2)\n",
    "print('A=', A, 'nB=', B) \n",
    "\n",
    "print('\\nA+B=',A+B)"
   ]
  },
  {
   "cell_type": "markdown",
   "metadata": {},
   "source": [
    "5. 다음 행렬 `A`의 원소가 `0`보다 작은 값을 모두 `0`으로 대체하세요.\n",
    "$$A=\\begin{bmatrix}\n",
    "       -1 & 2 & -5.4 \\\\\n",
    "       0 & 1 & -100.5 \\\\\n",
    "      \\end{bmatrix}$$\n",
    " "
   ]
  },
  {
   "cell_type": "code",
   "execution_count": 9,
   "metadata": {},
   "outputs": [
    {
     "name": "stdout",
     "output_type": "stream",
     "text": [
      "[[0. 2. 0.]\n",
      " [0. 1. 0.]]\n"
     ]
    }
   ],
   "source": [
    "import numpy as np\n",
    "\n",
    "A = np.array([-1,2,-5.4,0,1,-100.5]).reshape((2,3))\n",
    "A_shape = A.shape\n",
    "\n",
    "for i in range(A_shape[0]):\n",
    "    for j in range(A_shape[1]):\n",
    "        if A[i][j]<0:\n",
    "            A[i][j]=0\n",
    "print(A)"
   ]
  },
  {
   "cell_type": "markdown",
   "metadata": {},
   "source": [
    "6. 직사각형 클래스 `Rectangle`을 작성하는데, `area()`, `diagonal()` 메소드를 갖도록 하세요. `area`는 직사각형의 면적을 출력하고 `diagonal`은 직사각형의 대각선의 길이를 출력하는 프로그램을 작성하세요. 직사각형을 초기화할 때, 너비와 높이를 입력하도록 `__init__(self, width, height)` 메소드를 작성하세요."
   ]
  },
  {
   "cell_type": "code",
   "execution_count": 11,
   "metadata": {},
   "outputs": [
    {
     "name": "stdout",
     "output_type": "stream",
     "text": [
      "28\n",
      "8.06225774829855\n"
     ]
    }
   ],
   "source": [
    "import math\n",
    "class Rectangle:\n",
    "    def __init__(self, width, height) -> None:\n",
    "        self.width = width\n",
    "        self.height = height\n",
    "    def area(self):\n",
    "        area = self.width * self.height\n",
    "        print(area)\n",
    "    def diagonal(self):\n",
    "        diagonal = math.sqrt(self.width**2+self.height**2)\n",
    "        print(diagonal)\n",
    "\n",
    "rectangle = Rectangle(4,7)\n",
    "width = rectangle.area()   \n",
    "diagonal = rectangle.diagonal()     \n",
    "        "
   ]
  },
  {
   "cell_type": "markdown",
   "metadata": {},
   "source": [
    "7. Dog 클래스를 작성하는데 메소드는 `eat()`, `walk()`, `info()`를 갖도록 하세요. `eat` 메소드는 음식을 인자로 받아들여서 먹은 음식을 출력하고, `walk` 메소드를 실행할 때 마다 2미터씩 움직이도록 합니다. `info()`를 실행하면 이름이 뭐고, 무엇을 먹었고 얼마나 움직였는지를 출력하도록 프로그래밍을 하세요. 초기화할 때 강아지 이름을 입력할 수 있도록 `__init__(self, name)` 메소드를 작성하도록 하세요."
   ]
  },
  {
   "cell_type": "code",
   "execution_count": 24,
   "metadata": {},
   "outputs": [
    {
     "name": "stdout",
     "output_type": "stream",
     "text": [
      "밥풀이가 먹은 음식은 개껌입니다.\n",
      "2\n",
      "4\n",
      "이름은 밥풀이고, 먹은 음식은 개껌, 4미터를 움직였습니다.\n"
     ]
    }
   ],
   "source": [
    "class Dog:\n",
    "    def __init__(self,name) -> None:\n",
    "        self.name = name\n",
    "        self.distance = 0\n",
    "    def eat(self,food):\n",
    "        self.food = food\n",
    "        print(self.name+\"이가 먹은 음식은 \" + self.food +\"입니다.\")\n",
    "    def walk(self):\n",
    "        self.distance += 2\n",
    "        print(self.distance)\n",
    "    def info(self):\n",
    "        print(f\"이름은 {self.name}이고, 먹은 음식은 {self.food}, {self.distance}미터를 움직였습니다.\")\n",
    "\n",
    "dog = Dog(\"밥풀\")\n",
    "food = dog.eat(\"개껌\")\n",
    "distance = dog.walk()\n",
    "distance = dog.walk()\n",
    "information = dog.info()\n",
    "        "
   ]
  }
 ],
 "metadata": {
  "kernelspec": {
   "display_name": "base",
   "language": "python",
   "name": "python3"
  },
  "language_info": {
   "codemirror_mode": {
    "name": "ipython",
    "version": 3
   },
   "file_extension": ".py",
   "mimetype": "text/x-python",
   "name": "python",
   "nbconvert_exporter": "python",
   "pygments_lexer": "ipython3",
   "version": "3.10.13"
  }
 },
 "nbformat": 4,
 "nbformat_minor": 2
}
