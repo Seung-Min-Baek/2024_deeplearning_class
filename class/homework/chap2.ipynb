{
 "cells": [
  {
   "cell_type": "markdown",
   "metadata": {},
   "source": [
    "1. 다음 표를 만족하는 퍼셉트론을 구현해 보세요. 즉, 다음 식을 만족하는 $w_1,w_2,b$\n",
    "를 구해서 파이썬 함수로 만들어 보세요.\n",
    "\n",
    "$$ y=\n",
    "\\begin{cases}\n",
    "0, & \\quad \\text{if } \\ w_1x_1+w_2x_2+b<=0\\\\\n",
    "1, & \\quad \\text{if } \\ w_1x_1+w_2x_2+b>0\n",
    "\\end{cases}$$\n",
    "\n",
    "|$x_1$|$x_2$|$y$|\n",
    "|:-----:|:-----:|:-----:|\n",
    "|0|0|0|\n",
    "|-1|0|1|\n",
    "|-1|1|1|\n",
    "|0|1|1|"
   ]
  },
  {
   "cell_type": "code",
   "execution_count": 2,
   "metadata": {},
   "outputs": [
    {
     "name": "stdout",
     "output_type": "stream",
     "text": [
      "0\n",
      "1\n",
      "1\n",
      "1\n"
     ]
    }
   ],
   "source": [
    "import numpy as np\n",
    "\n",
    "def perceptron(x1, x2):\n",
    "    x=np.array([x1, x2])\n",
    "    w = np.array([-0.5, 0.5])\n",
    "    b = -0.3\n",
    "    tmp = np.sum(w* x) + b\n",
    "    if tmp <= 0:\n",
    "        return 0\n",
    "    elif tmp > 0:\n",
    "        return 1\n",
    "\n",
    "print(perceptron(0, 0))\n",
    "print(perceptron(-1, 0)) \n",
    "print(perceptron(-1, 1)) \n",
    "print(perceptron(0, 1)) "
   ]
  },
  {
   "cell_type": "markdown",
   "metadata": {},
   "source": [
    "2. 다음 표를 만족하는 퍼셉트론을 구현해 보세요. 즉, 다음 식을 만족하는 $w_1,w_2,b$\n",
    "를 구해서 파이썬 함수로 만들어 보세요.\n",
    "\n",
    "$$ y=\n",
    "\\begin{cases}\n",
    "0, & \\quad \\text{if } \\ w_1x_1+w_2x_2+b<=0\\\\\n",
    "1, & \\quad \\text{if } \\ w_1x_1+w_2x_2+b>0\n",
    "\\end{cases}$$\n",
    "\n",
    "|$x_1$|$x_2$|$y$|\n",
    "|:-----:|:-----:|:-----:|\n",
    "|-1|-1|0|\n",
    "|-1|1|1|\n",
    "|1|-1|1|\n",
    "|1|1|1|"
   ]
  },
  {
   "cell_type": "code",
   "execution_count": 5,
   "metadata": {},
   "outputs": [
    {
     "name": "stdout",
     "output_type": "stream",
     "text": [
      "0\n",
      "1\n",
      "1\n",
      "1\n"
     ]
    }
   ],
   "source": [
    "import numpy as np\n",
    "\n",
    "def perceptron(x1, x2):\n",
    "    x=np.array([x1, x2])\n",
    "    w = np.array([0.5, 0.5])\n",
    "    b = 0.3\n",
    "    tmp = np.sum(w* x) + b\n",
    "    if tmp <= 0:\n",
    "        return 0\n",
    "    elif tmp > 0:\n",
    "        return 1\n",
    "\n",
    "print(perceptron(-1, -1))\n",
    "print(perceptron(-1, 1)) \n",
    "print(perceptron(1, -1)) \n",
    "print(perceptron(1, 1)) "
   ]
  },
  {
   "cell_type": "markdown",
   "metadata": {},
   "source": [
    "3. 다음 표를 만족하는 퍼셉트론을 구현해 보세요. 즉, 다음 식을 만족하는 $w_1,w_2,b$\n",
    "를 구해서 파이썬 함수로 만들어 보세요.\n",
    "\n",
    "$$ y=\n",
    "\\begin{cases}\n",
    "-1, & \\quad \\text{if } \\ w_1x_1+w_2x_2+b<=1\\\\\n",
    "1, & \\quad \\text{if } \\ w_1x_1+w_2x_2+b>1\n",
    "\\end{cases}$$\n",
    "\n",
    "|$x_1$|$x_2$|$y$|\n",
    "|:-----:|:-----:|:-----:|\n",
    "|0.3|0.6|-1|\n",
    "|0.5|0.1|1|\n",
    "|0.7|2|1|\n",
    "|1.2|0.5|1|"
   ]
  },
  {
   "cell_type": "code",
   "execution_count": 2,
   "metadata": {},
   "outputs": [
    {
     "name": "stdout",
     "output_type": "stream",
     "text": [
      "-1\n",
      "1\n",
      "1\n",
      "1\n"
     ]
    }
   ],
   "source": [
    "import numpy as np\n",
    "\n",
    "def perceptron(x1, x2):\n",
    "    x=np.array([x1, x2])\n",
    "    w = np.array([2, 0.5])\n",
    "    b = -0.03\n",
    "    tmp = np.sum(w* x) + b\n",
    "    if tmp <= 1:\n",
    "        return -1\n",
    "    elif tmp > 1:\n",
    "        return 1\n",
    "\n",
    "print(perceptron(0.3, 0.6))\n",
    "print(perceptron(0.5, 0.1)) \n",
    "print(perceptron(0.7, 2)) \n",
    "print(perceptron(1.2, 0.5)) "
   ]
  },
  {
   "cell_type": "markdown",
   "metadata": {},
   "source": [
    "4. 퍼셉트론 의사 알고리즘을 구현하세요."
   ]
  },
  {
   "cell_type": "code",
   "execution_count": 4,
   "metadata": {},
   "outputs": [
    {
     "name": "stdout",
     "output_type": "stream",
     "text": [
      "[0 0] 0\n",
      "[1 0] 0\n",
      "[0 1] 0\n",
      "[1 1] 1\n",
      "w: [1 1] b: -1.5\n",
      "방정식 : x2 = -1.0 * x1 + 1.5\n"
     ]
    }
   ],
   "source": [
    "# initialize w=0, b=0\n",
    "w = np.array([0,0])\n",
    "b = 0\n",
    "\n",
    "# and gate data\n",
    "dataset = np.array([[0,0],[1,0],[0,1],[1,1]])\n",
    "label = np.array([0,0,0,1])\n",
    "\n",
    "while True:\n",
    "    misclassified = False\n",
    "    for x, y in zip(dataset, label):\n",
    "        if np.sum(w * x) + b <= 0 and y == 1:\n",
    "            w += x\n",
    "            b += 0.5\n",
    "            misclassified = True\n",
    "        elif np.sum(w * x) + b > 0 and y == 0:\n",
    "            w -= x\n",
    "            b -= 0.5\n",
    "            misclassified = True\n",
    "    if not misclassified:\n",
    "        break\n",
    "\n",
    "for x in dataset: \n",
    "    if np.sum(w * x) + b > 0:\n",
    "        output = 1 \n",
    "    else:\n",
    "        output = 0\n",
    "    print(x, output)\n",
    "print('w:',w,'b:',b)\n",
    "print(f'방정식 : x2 = {-w[0]/w[1]} * x1 + {-b/w[1]}')"
   ]
  }
 ],
 "metadata": {
  "kernelspec": {
   "display_name": "base",
   "language": "python",
   "name": "python3"
  },
  "language_info": {
   "codemirror_mode": {
    "name": "ipython",
    "version": 3
   },
   "file_extension": ".py",
   "mimetype": "text/x-python",
   "name": "python",
   "nbconvert_exporter": "python",
   "pygments_lexer": "ipython3",
   "version": "3.10.13"
  }
 },
 "nbformat": 4,
 "nbformat_minor": 2
}
