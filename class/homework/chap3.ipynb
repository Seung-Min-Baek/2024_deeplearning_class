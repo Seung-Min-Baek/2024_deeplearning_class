{
 "cells": [
  {
   "cell_type": "markdown",
   "metadata": {},
   "source": [
    "1. 다음 표를 만족하는 2층 퍼셉트론을 구현해 보세요. 즉, 다음 식을 만족하는 $w_1,w_2,b$를 구해서 파이썬 함수로 만들어 보세요.\n",
    "$$y=h(a)$$\n",
    "$$ h(a)=\n",
    "\\begin{cases}\n",
    "0, & \\quad \\text{if } \\ a\\leq0\\\\\n",
    "1, & \\quad \\text{if } \\ a>0\n",
    "\\end{cases}$$\n",
    "$$a_i^{(j)}=w_{i1}^{(j)}x_1 + w_{i2}^{(j)}x_2 + b_i^{(j)}$$\n",
    "\n",
    "|$x_1$|$x_2$|$y$|\n",
    "|:-----:|:-----:|:-----:|\n",
    "|1|1|1|\n",
    "|-1|1|0|\n",
    "|-1|-1|1|\n",
    "|1|-1|0|\n",
    "|1|2|0|"
   ]
  },
  {
   "cell_type": "code",
   "execution_count": 2,
   "metadata": {},
   "outputs": [
    {
     "data": {
      "text/plain": [
       "<matplotlib.lines.Line2D at 0x21e09eddc30>"
      ]
     },
     "execution_count": 2,
     "metadata": {},
     "output_type": "execute_result"
    },
    {
     "data": {
      "image/png": "[encoded data removed]",
      "text/plain": [
       "<Figure size 640x480 with 1 Axes>"
      ]
     },
     "metadata": {},
     "output_type": "display_data"
    }
   ],
   "source": [
    "import numpy as np\n",
    "x1 = np.array([1, -1, -1, 1, 1])\n",
    "x2 = np.array([1, 1, -1, -1, 2])\n",
    "\n",
    "import matplotlib.pyplot as plt\n",
    "fig = plt.figure()\n",
    "ax = fig.add_subplot(111)\n",
    "c_list = ['r', 'b', 'r', 'b', 'b']\n",
    "ax.scatter(x1, x2, marker='o', c=c_list)\n",
    "ax.set_xlim([-2, 2])\n",
    "ax.grid()\n",
    "ax.set_aspect('equal')\n",
    "ax.axhline()\n",
    "ax.axvline()"
   ]
  },
  {
   "cell_type": "code",
   "execution_count": 185,
   "metadata": {},
   "outputs": [
    {
     "name": "stdout",
     "output_type": "stream",
     "text": [
      "[1]\n",
      "[0]\n",
      "[1]\n",
      "[0]\n",
      "[0]\n"
     ]
    }
   ],
   "source": [
    "# 1번 풀이\n",
    "\n",
    "import numpy as np\n",
    "\n",
    "def step_function(x):\n",
    "    y = x>0\n",
    "    return y.astype(int)\n",
    "\n",
    "def init_network():\n",
    "    network = {}\n",
    "    network['W1'] = np.array([[1,1],[-1,-1]])\n",
    "    network['b1'] = np.array([-1,1])\n",
    "    network['W2'] = np.array([[-2],[2]])\n",
    "    network['b2'] = np.array([-0.2])\n",
    "    return network\n",
    "\n",
    "def forward(network,x):\n",
    "    W1, W2 = network['W1'], network['W2']\n",
    "    b1, b2 = network['b1'], network['b2']\n",
    "\n",
    "    a1 = np.dot(x, W1) + b1\n",
    "    z1 = step_function(a1)\n",
    "    a2 = np.dot(z1, W2) + b2\n",
    "    y = step_function(a2)\n",
    "    return y\n",
    "\n",
    "network = init_network()\n",
    "x1 = np.array([1, -1, -1, 1, 1])\n",
    "x2 = np.array([1, 1, -1, -1, 2])\n",
    "y = np.array([1,0,1,0,0])\n",
    "\n",
    "for x1,x2 in zip(x1,x2):\n",
    "    x = np.array([x1,x2])\n",
    "    y = forward(network,x)\n",
    "    print(y)\n"
   ]
  },
  {
   "cell_type": "markdown",
   "metadata": {},
   "source": [
    "2. 다음 표를 만족하는 2층 퍼셉트론을 구현해 보세요. 즉, 다음 식을 만족하는 $w_1,w_2,b$를 구해서 파이썬 함수로 만들어 보세요.\n",
    "$$y=h(a)$$\n",
    "$$ h(a)=\n",
    "\\begin{cases}\n",
    "0, & \\quad \\text{if } \\ a\\leq0\\\\\n",
    "1, & \\quad \\text{if } \\ a>0\n",
    "\\end{cases}$$\n",
    "$$a_i^{(j)}=w_{i1}^{(j)}x_1 + w_{i2}^{(j)}x_2 + b_i^{(j)}$$\n",
    "\n",
    "|$x_1$|$x_2$|$y$|\n",
    "|:-----:|:-----:|:-----:|\n",
    "|1|1|1|\n",
    "|-1|1|0|\n",
    "|-1|-1|1|\n",
    "|1|-1|0|\n",
    "|0|0|0|"
   ]
  },
  {
   "cell_type": "code",
   "execution_count": 3,
   "metadata": {},
   "outputs": [
    {
     "data": {
      "text/plain": [
       "<matplotlib.lines.Line2D at 0x21e0a62a4a0>"
      ]
     },
     "execution_count": 3,
     "metadata": {},
     "output_type": "execute_result"
    },
    {
     "data": {
      "image/png": "[encoded data removed]",
      "text/plain": [
       "<Figure size 640x480 with 1 Axes>"
      ]
     },
     "metadata": {},
     "output_type": "display_data"
    }
   ],
   "source": [
    "x1 = np.array([1, -1, -1, 1, 0])\n",
    "x2 = np.array([1, 1, -1, -1, 0])\n",
    "\n",
    "import matplotlib.pyplot as plt\n",
    "fig = plt.figure()\n",
    "ax = fig.add_subplot(111)\n",
    "c_list = ['r', 'b', 'r', 'b', 'b']\n",
    "ax.scatter(x1, x2, marker='o', c=c_list)\n",
    "ax.set_xlim([-2, 2])\n",
    "ax.set_ylim([-2, 2])\n",
    "ax.grid()\n",
    "ax.set_aspect('equal')\n",
    "ax.axhline()\n",
    "ax.axvline()"
   ]
  },
  {
   "cell_type": "code",
   "execution_count": 127,
   "metadata": {},
   "outputs": [
    {
     "name": "stdout",
     "output_type": "stream",
     "text": [
      "[1]\n",
      "[0]\n",
      "[1]\n",
      "[0]\n",
      "[0]\n"
     ]
    }
   ],
   "source": [
    "import numpy as np\n",
    "\n",
    "def step_function(x):\n",
    "    y = x>0\n",
    "    return y.astype(int)\n",
    "\n",
    "def init_network():\n",
    "    network = {}\n",
    "    network['W1'] = np.array([[-1,1],[-1,1]])\n",
    "    network['b1'] = np.array([1,1])\n",
    "    network['W2'] = np.array([[-1],[-1]])\n",
    "    network['b2'] = np.array([1.7])\n",
    "    return network\n",
    "\n",
    "def forward(network,x):\n",
    "    W1, W2 = network['W1'], network['W2']\n",
    "    b1, b2 = network['b1'], network['b2']\n",
    "\n",
    "    a1 = np.dot(x, W1) + b1\n",
    "    z1 = step_function(a1)\n",
    "    a2 = np.dot(z1, W2) + b2\n",
    "    y = step_function(a2)\n",
    "    return y\n",
    "\n",
    "network = init_network()\n",
    "x1 = np.array([1, -1, -1, 1, 0])\n",
    "x2 = np.array([1, 1, -1, -1, 0])\n",
    "\n",
    "for x1,x2 in zip(x1,x2):\n",
    "    x = np.array([x1,x2])\n",
    "    y = forward(network,x)\n",
    "    print(y)"
   ]
  },
  {
   "cell_type": "markdown",
   "metadata": {},
   "source": [
    "3. 다음 표를 만족하는 2층 퍼셉트론을 구현해 보세요. 즉, 다음 식을 만족하는 $w_1,w_2,b,p$를 구해서 파이썬 함수로 만들어 보세요.\n",
    "$$y=h(a)$$\n",
    "$$ h(a)=\n",
    "\\begin{cases}\n",
    "0, & \\quad \\text{if } \\ |a|\\leq p\\\\\n",
    "1, & \\quad \\text{if } \\ |a|>p\n",
    "\\end{cases}$$\n",
    "$$a_i^{(j)}=w_{i1}^{(j)}x_1 + w_{i2}^{(j)}x_2 + b_i^{(j)}$$\n",
    "\n",
    "|$x_1$|$x_2$|$y$|\n",
    "|:-----:|:-----:|:-----:|\n",
    "|1|1|0|\n",
    "|-1|1|1|\n",
    "|-1|-1|0|\n",
    "|1|-1|1|\n",
    "|0|0|1|\n",
    "|2|1|1|"
   ]
  },
  {
   "cell_type": "code",
   "execution_count": 4,
   "metadata": {},
   "outputs": [
    {
     "data": {
      "text/plain": [
       "<matplotlib.lines.Line2D at 0x21e0a82af80>"
      ]
     },
     "execution_count": 4,
     "metadata": {},
     "output_type": "execute_result"
    },
    {
     "data": {
      "image/png": "[encoded data removed]",
      "text/plain": [
       "<Figure size 640x480 with 1 Axes>"
      ]
     },
     "metadata": {},
     "output_type": "display_data"
    }
   ],
   "source": [
    "x1 = np.array([1, -1, -1, 1, 0, 2])\n",
    "x2 = np.array([1, 1, -1, -1, 0, 1])\n",
    "\n",
    "import matplotlib.pyplot as plt\n",
    "fig = plt.figure()\n",
    "ax = fig.add_subplot(111)\n",
    "c_list = ['b', 'r', 'b', 'r', 'r', 'r']\n",
    "ax.scatter(x1, x2, marker='o', c=c_list)\n",
    "ax.set_xlim([-2, 3])\n",
    "ax.set_ylim([-2, 2])\n",
    "ax.grid()\n",
    "ax.set_aspect('equal')\n",
    "ax.axhline()\n",
    "ax.axvline()"
   ]
  },
  {
   "cell_type": "code",
   "execution_count": 112,
   "metadata": {},
   "outputs": [
    {
     "name": "stdout",
     "output_type": "stream",
     "text": [
      "[1]\n",
      "[0]\n",
      "[0]\n",
      "[0]\n",
      "[1]\n",
      "[1]\n"
     ]
    }
   ],
   "source": [
    "import numpy as np\n",
    "\n",
    "p=1\n",
    "def step_function(x):\n",
    "    y = x>p\n",
    "    return y.astype(int)\n",
    "\n",
    "def init_network():\n",
    "    network = {}\n",
    "    network['W1'] = np.array([[1,-10],[-3,3]])\n",
    "    network['b1'] = np.array([1,0.5])\n",
    "    network['W2'] = np.array([[-5],[-3]])\n",
    "    network['b2'] = np.array([3])\n",
    "    return network\n",
    "\n",
    "def forward(network,x):\n",
    "    W1, W2 = network['W1'], network['W2']\n",
    "    b1, b2 = network['b1'], network['b2']\n",
    "\n",
    "    a1 = np.dot(x, W1) + b1\n",
    "    z1 = step_function(a1)\n",
    "    a2 = np.dot(z1, W2) + b2\n",
    "    y = step_function(a2)\n",
    "    return y\n",
    "\n",
    "network = init_network()\n",
    "x1 = np.array([1, -1, -1, 1, 0, 2])\n",
    "x2 = np.array([1, 1, -1, -1, 0, 1])\n",
    "y = np.array([0,1,0,1,1,1])\n",
    "\n",
    "for x1,x2 in zip(x1,x2):\n",
    "    x = np.array([x1,x2])\n",
    "    y = forward(network,x)\n",
    "    print(y)"
   ]
  }
 ],
 "metadata": {
  "kernelspec": {
   "display_name": "base",
   "language": "python",
   "name": "python3"
  },
  "language_info": {
   "codemirror_mode": {
    "name": "ipython",
    "version": 3
   },
   "file_extension": ".py",
   "mimetype": "text/x-python",
   "name": "python",
   "nbconvert_exporter": "python",
   "pygments_lexer": "ipython3",
   "version": "3.10.13"
  }
 },
 "nbformat": 4,
 "nbformat_minor": 2
}
