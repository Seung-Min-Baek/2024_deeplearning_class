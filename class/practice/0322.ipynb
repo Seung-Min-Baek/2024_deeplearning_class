{
 "cells": [
  {
   "cell_type": "markdown",
   "metadata": {},
   "source": [
    "### 편향\n",
    "$x_2 = -\\frac{b}{w_2}x_1-\\frac{b}{w_2}$ 에서 b 는 편향이다.\n",
    "\n",
    "$(x-x_0,y-y_0)\\dot(w_1,w_2)=0$ 항상 수직이다."
   ]
  },
  {
   "cell_type": "markdown",
   "metadata": {},
   "source": [
    "##### 직접하기\n",
    "1. NAND 게이트를 넘파이 배열을 이용해서 구현하고 테스트 해보세요. $w_1=w_2=-0.5,b=0.7$을 사용하세요."
   ]
  },
  {
   "cell_type": "code",
   "execution_count": 1,
   "metadata": {},
   "outputs": [
    {
     "name": "stdout",
     "output_type": "stream",
     "text": [
      "1\n"
     ]
    }
   ],
   "source": [
    "import numpy as np\n",
    "\n",
    "def NAND(x1,x2):\n",
    "    x = np.array([x1,x2])\n",
    "    w = np.array([-0.5 -0.5])\n",
    "    b = 0.7\n",
    "    tmp = np.sum(x*w)+b\n",
    "    if tmp <= 0:\n",
    "        return 1\n",
    "    elif tmp > 0:\n",
    "        return 0\n",
    "print(NAND(1,0))"
   ]
  },
  {
   "cell_type": "markdown",
   "metadata": {},
   "source": [
    "##### 퍼셉트론 학습 알고리즘 수렴 증명\n",
    "\n",
    "$w^*$ : 나누었을때 나온 평면의 수직벡터\n",
    "\n",
    "가장 짧은 거리인 $\\gamma = x^T와 w^*를 내적한 것 (내적 : x^T를 w^*에 그림자 그린 것)$"
   ]
  },
  {
   "cell_type": "markdown",
   "metadata": {},
   "source": [
    "#### 증명\n",
    "$y(x^Tw)$가 음수가 나오면 w가 잘못된 위치에 있는것"
   ]
  }
 ],
 "metadata": {
  "kernelspec": {
   "display_name": "base",
   "language": "python",
   "name": "python3"
  },
  "language_info": {
   "codemirror_mode": {
    "name": "ipython",
    "version": 3
   },
   "file_extension": ".py",
   "mimetype": "text/x-python",
   "name": "python",
   "nbconvert_exporter": "python",
   "pygments_lexer": "ipython3",
   "version": "3.10.13"
  }
 },
 "nbformat": 4,
 "nbformat_minor": 2
}
